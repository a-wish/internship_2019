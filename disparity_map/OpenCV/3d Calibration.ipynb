{
 "cells": [
  {
   "cell_type": "markdown",
   "metadata": {},
   "source": [
    "### Import packages and prepare variables\n",
    "We are using a chessboard of shape 10x7 for calibration \n",
    "You need to adjust the *pattern_size* variable to your size. "
   ]
  },
  {
   "cell_type": "code",
   "execution_count": 1,
   "metadata": {},
   "outputs": [],
   "source": [
    "import cv2\n",
    "import numpy as np\n",
    "pattern_size = (7,10)\n",
    "samples_left= []\n",
    "samples_right= []\n",
    "left_points = []\n",
    "right_points = []\n",
    "img_size = None"
   ]
  },
  {
   "cell_type": "markdown",
   "metadata": {},
   "source": [
    "### Start stereo stream\n",
    "We start stereo stream \n",
    "1. Switch of Autofocus to prevent the images going in and out of focus\n",
    "2. Switch of Autowhite balance to prevent change in temprature gradient of image\n",
    "\n",
    "You might need to remove these features based on your camera.\n",
    "To check if your camera has these properties you can run the following code in terminal\n",
    "\n",
    "    sudo apt install v4l-utils \n",
    "    v4l2-ctl --list-devices\n",
    "\n",
    "If you find your camera here find its port number (*mostly of form /dev/videoX*) for example in my case my camera was listed as\n",
    "    \n",
    "    C922 Pro Stream Webcam (usb-0000:00:14.0-1):\n",
    "\t/dev/video1\n",
    "\n",
    "So next we use the code\n",
    "\n",
    "    v4l2-ctl -d /dev/video1 --list-ctrls\n",
    "    \n",
    "This will list all the options and see if it has the options \n",
    "1. focus_auto\n",
    "2. white_balance_temperature_auto\n",
    "\n",
    "If *focus_auto* is absent remove the line \n",
    "\n",
    "    cap1.set(cv2.CAP_PROP_AUTOFOCUS, 0)\n",
    "    \n",
    "If *white_balance_temperature_auto* is absent remove the line \n",
    "\n",
    "    cap1.set(cv2.CAP_PROP_AUTO_WB, 0)"
   ]
  },
  {
   "cell_type": "code",
   "execution_count": 2,
   "metadata": {},
   "outputs": [
    {
     "data": {
      "text/plain": [
       "True"
      ]
     },
     "execution_count": 2,
     "metadata": {},
     "output_type": "execute_result"
    }
   ],
   "source": [
    "cap_left = cv2.VideoCapture(1)\n",
    "cap_left.set(cv2.CAP_PROP_AUTOFOCUS, 1)\n",
    "cap_left.set(cv2.CAP_PROP_AUTO_WB, 2)\n",
    "cap_right = cv2.VideoCapture(2)\n",
    "cap_right.set(cv2.CAP_PROP_AUTOFOCUS, 1)\n",
    "cap_right.set(cv2.CAP_PROP_AUTO_WB, 2)"
   ]
  },
  {
   "cell_type": "markdown",
   "metadata": {},
   "source": [
    "### Mark chessboard\n",
    "We perform the following steps to get checkerboard images for calibration\n",
    "1. Capture frame from both the camera stream simultaneously\n",
    "2. Find Chessboard Patterns on them\n",
    "3. draw Chessbaord Corners on the frame and take out coarse corners from the image\n",
    "4. Caputre and store the images if the chessboards are taken correctly\n",
    "> Try capturing atleast 50 images from all angles for more precise distortion values"
   ]
  },
  {
   "cell_type": "code",
   "execution_count": 3,
   "metadata": {},
   "outputs": [],
   "source": [
    "while True:\n",
    "    ret_left, frame_left = cap_left.read()\n",
    "    ret_right, frame_right = cap_right.read()\n",
    "    if not ret_left:\n",
    "        break\n",
    "    if not ret_right:\n",
    "        break\n",
    "    if img_size is None:\n",
    "        img_size = (frame_left.shape[1], frame_right.shape[0])\n",
    "    \n",
    "    res_left, corners_left = cv2.findChessboardCorners(frame_left, pattern_size)\n",
    "    res_right, corners_right = cv2.findChessboardCorners(frame_right, pattern_size)\n",
    "    \n",
    "    img_show_left = np.copy(frame_left)\n",
    "    img_show_right = np.copy(frame_right)\n",
    "    cv2.drawChessboardCorners(img_show_left, pattern_size, corners_left, res_left)\n",
    "    cv2.drawChessboardCorners(img_show_right, pattern_size, corners_right, res_right)\n",
    "    cv2.putText(img_show_left, 'Left Samples captured: %d' % len(samples_left), (0, 40), \n",
    "                cv2.FONT_HERSHEY_SIMPLEX, 1.0, (0, 255, 0), 2)\n",
    "    cv2.putText(img_show_right, 'Right Samples captured: %d' % len(samples_right), (0, 40), \n",
    "                cv2.FONT_HERSHEY_SIMPLEX, 1.0, (0, 255, 0), 2)\n",
    "    both = np.concatenate((img_show_left, img_show_right), axis=1)\n",
    "    cv2.imshow('chessboard', both)\n",
    "    \n",
    "    wait_time = 0 if (res_left and res_right) else 30\n",
    "    k = cv2.waitKey(wait_time)\n",
    "    \n",
    "    if k == ord('s') and res_left and res_right:\n",
    "        samples_left.append((cv2.cvtColor(frame_left, cv2.COLOR_BGR2GRAY), corners_left))\n",
    "        samples_right.append((cv2.cvtColor(frame_right, cv2.COLOR_BGR2GRAY), corners_right))\n",
    "    elif k == 27:\n",
    "        break\n",
    "\n",
    "cap_left.release()\n",
    "cap_right.release()\n",
    "cv2.destroyAllWindows()"
   ]
  },
  {
   "cell_type": "markdown",
   "metadata": {},
   "source": [
    "### Correct and Optimize chessboard corner position\n",
    "We use the criteria of minimal error and maximum iterations which can be altered as you want.\n",
    "\n",
    "Fucntion used it [cv2.cornerSubPix](https://docs.opencv.org/3.0-beta/modules/imgproc/doc/feature_detection.html) for corner correction based on old values. It is an itervative algorithm for finding correct location of corner pixel using image gradient."
   ]
  },
  {
   "cell_type": "code",
   "execution_count": 4,
   "metadata": {},
   "outputs": [],
   "source": [
    "criteria = (cv2.TERM_CRITERIA_EPS + cv2.TERM_CRITERIA_MAX_ITER, 50, 1e-3)\n",
    "\n",
    "for i in range(len(samples_left)):\n",
    "    img_left, corners_left = samples_left[i]\n",
    "    corners_left = cv2.cornerSubPix(img_left, corners_left, (10, 10), (-1,-1), criteria)\n",
    "    left_points.append(corners_left)\n",
    "for j in range(len(samples_right)):\n",
    "    img_right, corners_right = samples_right[j]\n",
    "    corners_right = cv2.cornerSubPix(img_right, corners_right, (10, 10), (-1,-1), criteria)\n",
    "    right_points.append(corners_right)"
   ]
  },
  {
   "cell_type": "markdown",
   "metadata": {},
   "source": [
    "### Initialize Pattern points set for correction"
   ]
  },
  {
   "cell_type": "code",
   "execution_count": 5,
   "metadata": {},
   "outputs": [],
   "source": [
    "pattern_points = np.zeros((np.prod(pattern_size), 3), np.float32)\n",
    "pattern_points[:, :2] = np.indices(pattern_size).T.reshape(-1, 2)\n",
    "pattern_points = [pattern_points] * len(left_points)"
   ]
  },
  {
   "cell_type": "markdown",
   "metadata": {},
   "source": [
    "### Finally find the stereo parameters"
   ]
  },
  {
   "cell_type": "code",
   "execution_count": 6,
   "metadata": {},
   "outputs": [],
   "source": [
    "err, Kl, Dl, Kr, Dr, R, T, E, F = cv2.stereoCalibrate(\n",
    "    pattern_points, left_points, right_points, None, None, None, None, img_size, flags=0)"
   ]
  },
  {
   "cell_type": "markdown",
   "metadata": {},
   "source": [
    "### Save the stereo rig paramters in stereo.npy file which can be loaded now as and when required\n",
    "1. Kl : Camera matrix left camera\n",
    "2. Dl : Distortion matrix left camera\n",
    "3. Kr : Camera matrix right camera\n",
    "4. Dr : Distortion matrix right camera\n",
    "5. T : Translation matrix\n",
    "6. R : Rotation Matrix\n",
    "7. E : Essesntial Matrix\n",
    "8. F : Fundamental Matrix"
   ]
  },
  {
   "cell_type": "code",
   "execution_count": 7,
   "metadata": {},
   "outputs": [],
   "source": [
    "np.save('stereo.npy', {'Kl': Kl, 'Dl': Dl, 'Kr': Kr, 'Dr': Dr, 'R': R, 'T': T, 'E': E, 'F': F, \n",
    "                       'img_size': img_size, 'left_pts': left_points, 'right_pts': right_points})"
   ]
  },
  {
   "cell_type": "code",
   "execution_count": null,
   "metadata": {},
   "outputs": [],
   "source": [
    "xd = np.load('stereo.npy',allow_pickle=True).item()"
   ]
  }
 ],
 "metadata": {
  "kernelspec": {
   "display_name": "Python 3",
   "language": "python",
   "name": "python3"
  },
  "language_info": {
   "codemirror_mode": {
    "name": "ipython",
    "version": 3
   },
   "file_extension": ".py",
   "mimetype": "text/x-python",
   "name": "python",
   "nbconvert_exporter": "python",
   "pygments_lexer": "ipython3",
   "version": "3.6.7"
  }
 },
 "nbformat": 4,
 "nbformat_minor": 2
}
