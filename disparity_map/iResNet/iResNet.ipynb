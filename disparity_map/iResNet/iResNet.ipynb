{
 "cells": [
  {
   "cell_type": "code",
   "execution_count": 1,
   "metadata": {},
   "outputs": [
    {
     "name": "stderr",
     "output_type": "stream",
     "text": [
      "Using TensorFlow backend.\n"
     ]
    }
   ],
   "source": [
    "import numpy as np\n",
    "import cv2\n",
    "import matplotlib.pyplot as plt\n",
    "import sys\n",
    "import os\n",
    "import matplotlib.image as mpimg\n",
    "import pandas as pd\n",
    "from keras.utils import plot_model\n",
    "from keras.models import *\n",
    "from keras.layers import *\n",
    "from keras.optimizers import *\n",
    "from keras.callbacks import ModelCheckpoint, LearningRateScheduler\n",
    "from keras import backend as keras"
   ]
  },
  {
   "cell_type": "code",
   "execution_count": 2,
   "metadata": {},
   "outputs": [],
   "source": [
    "%matplotlib inline"
   ]
  },
  {
   "cell_type": "markdown",
   "metadata": {},
   "source": [
    "## Model"
   ]
  },
  {
   "cell_type": "code",
   "execution_count": 3,
   "metadata": {},
   "outputs": [],
   "source": [
    "def iresnet_ver1(shape=(None,None,3)):\n",
    "    \n",
    "    activation_relu = 'relu'\n",
    "    init_random_normal = 'random_normal'\n",
    "    \n",
    "    # Input Layer\n",
    "    \n",
    "    input_left = Input(shape)\n",
    "    input_right = Input(shape)\n",
    "    \n",
    "    #Stem Block for multiscale shared feature extraction begins\n",
    "    \n",
    "    conv1 = Conv2D(64, 7, strides=2, activation=activation_relu, kernel_initializer=init_random_normal, name='conv1')\n",
    "    conv1_left = conv1(input_left)\n",
    "    conv1_right = conv1(input_right)\n",
    "    \n",
    "    up1 = Conv2DTranspose(32, 4, strides=2, activation=activation_relu, kernel_initializer=init_random_normal, name='up1')\n",
    "    up1_left = up1(conv1_left)\n",
    "    up1_right = up1(conv1_right)\n",
    "    \n",
    "    conv2 = Conv2D(128, 5, strides=2, activation=activation_relu, kernel_initializer=init_random_normal, name='conv2')\n",
    "    conv2_left = conv2(conv1_left)\n",
    "    conv2_right = conv2(conv1_right)\n",
    "    \n",
    "    up2 = Conv2DTranspose(32, 8, strides=4, activation=activation_relu, kernel_initializer=init_random_normal, name='up2')\n",
    "    up2_left = up2(conv2_left)\n",
    "    up2_right = up2(conv2_right)\n",
    "    \n",
    "    match_conv1 = Conv2D(32, 5, strides=1, activation=activation_relu,kernel_initializer=init_random_normal, name='matchconv1')\n",
    "    match_conv1_left = match_conv1(up1_left)\n",
    "    match_conv1_right = match_conv1(up1_right)\n",
    "    \n",
    "    up1_2_left = concatenate([match_conv1_left,up2_left],name='concat_left')\n",
    "    up1_2_right = concatenate([match_conv1_right,up2_right],name='conact_right')\n",
    "    \n",
    "    conv1_2 = Conv2D(32, 1, strides=1, activation=activation_relu, kernel_initializer=init_random_normal, name='convup1_2')\n",
    "    conv1_2_left = conv1_2(up1_2_left)\n",
    "    conv1_2_right = conv1_2(up1_2_right)\n",
    "    \n",
    "    #Stem Block for multiscale shared feature extraction ends\n",
    "    \n",
    "    model_shared_features = Model(inputs=[input_left,input_right],outputs=[conv1_2_left,conv1_2_right])\n",
    "    model_shared_features.compile(optimizer = Adam(lr = 0.00001), loss = 'categorical_crossentropy', metrics = ['accuracy'])\n",
    "    model_shared_features.summary()\n",
    "    plot_model(model=model_shared_features,show_layer_names=True, show_shapes=True, to_file='model_shared_features.png')\n",
    "    \n",
    "    #Initial Disparity Estimation Sub-network begins\n",
    "\n",
    "    \n",
    "    return model_shared_features"
   ]
  },
  {
   "cell_type": "code",
   "execution_count": 4,
   "metadata": {
    "scrolled": false
   },
   "outputs": [
    {
     "name": "stdout",
     "output_type": "stream",
     "text": [
      "__________________________________________________________________________________________________\n",
      "Layer (type)                    Output Shape         Param #     Connected to                     \n",
      "==================================================================================================\n",
      "input_1 (InputLayer)            (None, 640, 480, 3)  0                                            \n",
      "__________________________________________________________________________________________________\n",
      "input_2 (InputLayer)            (None, 640, 480, 3)  0                                            \n",
      "__________________________________________________________________________________________________\n",
      "conv1 (Conv2D)                  (None, 317, 237, 64) 9472        input_1[0][0]                    \n",
      "                                                                 input_2[0][0]                    \n",
      "__________________________________________________________________________________________________\n",
      "up1 (Conv2DTranspose)           (None, 636, 476, 32) 32800       conv1[0][0]                      \n",
      "                                                                 conv1[1][0]                      \n",
      "__________________________________________________________________________________________________\n",
      "conv2 (Conv2D)                  (None, 157, 117, 128 204928      conv1[0][0]                      \n",
      "                                                                 conv1[1][0]                      \n",
      "__________________________________________________________________________________________________\n",
      "matchconv1 (Conv2D)             (None, 632, 472, 32) 25632       up1[0][0]                        \n",
      "                                                                 up1[1][0]                        \n",
      "__________________________________________________________________________________________________\n",
      "up2 (Conv2DTranspose)           (None, 632, 472, 32) 262176      conv2[0][0]                      \n",
      "                                                                 conv2[1][0]                      \n",
      "__________________________________________________________________________________________________\n",
      "concat_left (Concatenate)       (None, 632, 472, 64) 0           matchconv1[0][0]                 \n",
      "                                                                 up2[0][0]                        \n",
      "__________________________________________________________________________________________________\n",
      "conact_right (Concatenate)      (None, 632, 472, 64) 0           matchconv1[1][0]                 \n",
      "                                                                 up2[1][0]                        \n",
      "__________________________________________________________________________________________________\n",
      "convup1_2 (Conv2D)              (None, 632, 472, 32) 2080        concat_left[0][0]                \n",
      "                                                                 conact_right[0][0]               \n",
      "==================================================================================================\n",
      "Total params: 537,088\n",
      "Trainable params: 537,088\n",
      "Non-trainable params: 0\n",
      "__________________________________________________________________________________________________\n"
     ]
    }
   ],
   "source": [
    "x = iresnet_ver1((640,480,3))"
   ]
  },
  {
   "cell_type": "code",
   "execution_count": null,
   "metadata": {},
   "outputs": [],
   "source": []
  }
 ],
 "metadata": {
  "kernelspec": {
   "display_name": "Python 3",
   "language": "python",
   "name": "python3"
  },
  "language_info": {
   "codemirror_mode": {
    "name": "ipython",
    "version": 3
   },
   "file_extension": ".py",
   "mimetype": "text/x-python",
   "name": "python",
   "nbconvert_exporter": "python",
   "pygments_lexer": "ipython3",
   "version": "3.6.7"
  }
 },
 "nbformat": 4,
 "nbformat_minor": 2
}
