{
 "cells": [
  {
   "cell_type": "code",
   "execution_count": 1,
   "metadata": {},
   "outputs": [],
   "source": [
    "import cv2\n",
    "import numpy as np"
   ]
  },
  {
   "cell_type": "code",
   "execution_count": 2,
   "metadata": {},
   "outputs": [],
   "source": [
    "data = np.load('stereo.npy',allow_pickle=True).item()\n",
    "Kl, Dl, Kr, Dr, R, T, img_size = data['Kl'], data['Dl'], data['Kr'], data['Dr'], \\\n",
    "                                 data['R'], data['T'], data['img_size']"
   ]
  },
  {
   "cell_type": "code",
   "execution_count": 3,
   "metadata": {},
   "outputs": [
    {
     "data": {
      "text/plain": [
       "True"
      ]
     },
     "execution_count": 3,
     "metadata": {},
     "output_type": "execute_result"
    }
   ],
   "source": [
    "cap_left = cv2.VideoCapture(1)\n",
    "cap_left.set(cv2.CAP_PROP_AUTOFOCUS, 1)\n",
    "cap_left.set(cv2.CAP_PROP_AUTO_WB, 3)\n",
    "cap_right = cv2.VideoCapture(2)\n",
    "cap_right.set(cv2.CAP_PROP_AUTOFOCUS, 1)\n",
    "cap_right.set(cv2.CAP_PROP_AUTO_WB, 3)"
   ]
  },
  {
   "cell_type": "code",
   "execution_count": 4,
   "metadata": {},
   "outputs": [],
   "source": [
    "R1, R2, P1, P2, Q, validRoi1, validRoi2 = cv2.stereoRectify(Kl, Dl, Kr, Dr, img_size, R, T)"
   ]
  },
  {
   "cell_type": "code",
   "execution_count": 5,
   "metadata": {},
   "outputs": [],
   "source": [
    "xmap_left, ymap_left = cv2.initUndistortRectifyMap(Kl, Dl, R1, P1, img_size, cv2.CV_32FC1)\n",
    "xmap_right, ymap_right = cv2.initUndistortRectifyMap(Kr, Dr, R2, P2, img_size, cv2.CV_32FC1)"
   ]
  },
  {
   "cell_type": "code",
   "execution_count": 6,
   "metadata": {},
   "outputs": [],
   "source": [
    "while True:\n",
    "    ret_left, frame_left = cap_left.read()\n",
    "    ret_right, frame_right = cap_right.read()\n",
    "    if not ret_left:\n",
    "        break\n",
    "    if not ret_right:\n",
    "        break\n",
    "\n",
    "    left_img_rectified = cv2.remap(frame_left, xmap_left, ymap_left, cv2.INTER_LINEAR)\n",
    "    right_img_rectified = cv2.remap(frame_right, xmap_right, ymap_right, cv2.INTER_LINEAR)\n",
    "    \n",
    "    stereo_bm = cv2.StereoBM_create(32)\n",
    "    dispmap_bm = stereo_bm.compute(cv2.cvtColor(left_img_rectified, cv2.COLOR_BGR2GRAY), \n",
    "                               cv2.cvtColor(right_img_rectified, cv2.COLOR_BGR2GRAY))\n",
    "    disp_bm = cv2.normalize(dispmap_bm,None, alpha=0, beta=255,norm_type=cv2.NORM_MINMAX, dtype=cv2.CV_8U)\n",
    "\n",
    "    stereo_sgbm = cv2.StereoSGBM_create(0, 32)\n",
    "    dispmap_sgbm = stereo_sgbm.compute(left_img_rectified, right_img_rectified)\n",
    "    disp_sbm = cv2.normalize(dispmap_sgbm,None, alpha=0, beta=255,norm_type=cv2.NORM_MINMAX, dtype=cv2.CV_8U)\n",
    "    \n",
    "    original = np.concatenate((frame_left, frame_right), axis=1)\n",
    "    rectified = np.concatenate((left_img_rectified,right_img_rectified),axis=1)\n",
    "    \n",
    "    cv2.imshow('Actual', original)\n",
    "    cv2.imshow('Recitified',rectified)\n",
    "    cv2.imshow('StereoBM', disp_bm)\n",
    "    cv2.imshow('StereoSBM',disp_sbm)\n",
    "    \n",
    "    k = cv2.waitKey(10)\n",
    "    if k == 27:\n",
    "        break\n",
    "\n",
    "cap_left.release()\n",
    "cap_right.release()\n",
    "cv2.destroyAllWindows()"
   ]
  },
  {
   "cell_type": "code",
   "execution_count": null,
   "metadata": {},
   "outputs": [],
   "source": []
  },
  {
   "cell_type": "code",
   "execution_count": null,
   "metadata": {},
   "outputs": [],
   "source": []
  }
 ],
 "metadata": {
  "kernelspec": {
   "display_name": "Python 3",
   "language": "python",
   "name": "python3"
  },
  "language_info": {
   "codemirror_mode": {
    "name": "ipython",
    "version": 3
   },
   "file_extension": ".py",
   "mimetype": "text/x-python",
   "name": "python",
   "nbconvert_exporter": "python",
   "pygments_lexer": "ipython3",
   "version": "3.6.7"
  }
 },
 "nbformat": 4,
 "nbformat_minor": 2
}
